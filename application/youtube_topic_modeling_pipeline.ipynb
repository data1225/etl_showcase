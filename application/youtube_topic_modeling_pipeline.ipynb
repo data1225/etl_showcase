{
 "cells": [
  {
   "cell_type": "markdown",
   "id": "90928b2c",
   "metadata": {},
   "source": [
    "# YouTube 熱門影片主題建模（BERTopic）Pipeline\n",
    "\n",
    "以中文分析為核心，使用 `shibing624/text2vec-base-chinese` 產生向量嵌入，\n",
    "並輸出主題結構（Hierarchy / Bubble）與 Sankey（Topic ↔ Search keyword）。"
   ]
  },
  {
   "cell_type": "code",
   "execution_count": 46,
   "id": "89c02da6",
   "metadata": {},
   "outputs": [
    {
     "name": "stdout",
     "output_type": "stream",
     "text": [
      "The autoreload extension is already loaded. To reload it, use:\n",
      "  %reload_ext autoreload\n",
      "Using project root: C:\\My data\\0.change jobs\\data_science_practice\n"
     ]
    }
   ],
   "source": [
    "%load_ext autoreload\n",
    "%autoreload 2\n",
    "from path_setup import setup_project_root\n",
    "root = setup_project_root()\n",
    "\n",
    "import os, sys, jieba, hdbscan\n",
    "import pandas as pd\n",
    "from sentence_transformers import SentenceTransformer\n",
    "from bertopic import BERTopic\n",
    "from sklearn.feature_extraction.text import CountVectorizer\n",
    "import plotly.graph_objects as go\n",
    "from plotly.subplots import make_subplots\n",
    "\n",
    "# Local modules\n",
    "from etl_showcase.infrastructure.cleaning.data_preprocessor import (\n",
    "    google_sheet_to_dataframe, \n",
    "    preprocess_dataframe,\n",
    ")\n",
    "from etl_showcase.infrastructure.cleaning.text_cleaner import (\n",
    "    remove_all_punctuation\n",
    ")\n",
    "from etl_showcase.infrastructure.cleaning.text_tokenizer import (\n",
    "    jieba_tokenizer\n",
    ")\n",
    "from etl_showcase.infrastructure.reporting.topic_visualizer import (\n",
    "    visualize_topics_bubble, \n",
    "    visualize_hierarchical_clustering, \n",
    "    visualize_sankey, \n",
    "    save_plotly_html,\n",
    ")\n",
    "from etl_showcase.config.youtube import (\n",
    "    YOUTUBE_SPREADSHEET_ID,\n",
    "    YOUTUBE_SEARCH_VIDEOS_FUNCTION_NAME,\n",
    "    VIDEO_COLUMN_ORDER,\n",
    ")\n",
    "from etl_showcase.infrastructure.datasource.google_sheets_api import (\n",
    "    write_secret_json,\n",
    "    delete_secret_json,\n",
    "    get_full_google_sheet,\n",
    ")\n",
    "\n",
    "def data_source_text(keywords:str):\n",
    "    return f\"資料來源：蒐集 YouTube 上相關關鍵字的前 300 筆影片標題與描述，並使用 BERTopic 生成熱門議題。<br />本次搜尋關鍵字為：{keywords}。\""
   ]
  },
  {
   "cell_type": "code",
   "execution_count": 40,
   "id": "5d429f5c",
   "metadata": {},
   "outputs": [
    {
     "name": "stdout",
     "output_type": "stream",
     "text": [
      "Loaded rows: 3018\n"
     ]
    },
    {
     "data": {
      "text/html": [
       "<div>\n",
       "<style scoped>\n",
       "    .dataframe tbody tr th:only-of-type {\n",
       "        vertical-align: middle;\n",
       "    }\n",
       "\n",
       "    .dataframe tbody tr th {\n",
       "        vertical-align: top;\n",
       "    }\n",
       "\n",
       "    .dataframe thead th {\n",
       "        text-align: right;\n",
       "    }\n",
       "</style>\n",
       "<table border=\"1\" class=\"dataframe\">\n",
       "  <thead>\n",
       "    <tr style=\"text-align: right;\">\n",
       "      <th></th>\n",
       "      <th>Category</th>\n",
       "      <th>Search keyword</th>\n",
       "      <th>Video ID</th>\n",
       "      <th>Video title</th>\n",
       "      <th>Video description</th>\n",
       "      <th>Publish datetime</th>\n",
       "      <th>Channel name</th>\n",
       "      <th>Channel ID</th>\n",
       "      <th>Thumbnail URL</th>\n",
       "    </tr>\n",
       "  </thead>\n",
       "  <tbody>\n",
       "    <tr>\n",
       "      <th>0</th>\n",
       "      <td>心理領域</td>\n",
       "      <td>心理學</td>\n",
       "      <td>HzcS6Vv4iFQ</td>\n",
       "      <td>🦡心理学上有个词叫：蜜獾效应｜你越是不怕失去，世界越拿你没办法</td>\n",
       "      <td>视频简介（中英文双语） 简介（中文）： 在这个看似和平，实则暗潮汹涌的世界里，你越是在意、越...</td>\n",
       "      <td>2025-08-09T12:00:32Z</td>\n",
       "      <td>超级语录-Quotes</td>\n",
       "      <td>UCOrNp79J26wFtULRo9T17ag</td>\n",
       "      <td>https://i.ytimg.com/vi/HzcS6Vv4iFQ/hqdefault.jpg</td>\n",
       "    </tr>\n",
       "    <tr>\n",
       "      <th>1</th>\n",
       "      <td>心理領域</td>\n",
       "      <td>心理學</td>\n",
       "      <td>fO31IpWhyy8</td>\n",
       "      <td>第一句話就讓人聽喜歡聽下去！高情商說話技巧！非暴力溝通的心理學【人際心理學】| 維思維</td>\n",
       "      <td>想學好英文，但面對開口說英文的障礙？試看看： #speaker 專屬下載連結➡️ https...</td>\n",
       "      <td>2025-08-23T12:01:14Z</td>\n",
       "      <td>維思維WeisWay</td>\n",
       "      <td>UCcU6CC2Gkc18aBUfEtdjaAA</td>\n",
       "      <td>https://i.ytimg.com/vi/fO31IpWhyy8/hqdefault.jpg</td>\n",
       "    </tr>\n",
       "    <tr>\n",
       "      <th>2</th>\n",
       "      <td>心理領域</td>\n",
       "      <td>心理學</td>\n",
       "      <td>boEjQfZD_DE</td>\n",
       "      <td>🐜 心理学上有个词叫：蚂蚁效应｜所有的积累都在别人看不见的时候发生</td>\n",
       "      <td>成为此频道的会员即可获享以下福利：https://www.youtube.com/chann...</td>\n",
       "      <td>2025-08-21T23:05:07Z</td>\n",
       "      <td>超级语录-Quotes</td>\n",
       "      <td>UCOrNp79J26wFtULRo9T17ag</td>\n",
       "      <td>https://i.ytimg.com/vi/boEjQfZD_DE/hqdefault.jpg</td>\n",
       "    </tr>\n",
       "    <tr>\n",
       "      <th>3</th>\n",
       "      <td>心理領域</td>\n",
       "      <td>心理學</td>\n",
       "      <td>GRWaSdjufdU</td>\n",
       "      <td>荣格心理学，中年后如何找回自己？</td>\n",
       "      <td>歡迎訂閱我們的頻道： https://www.youtube.com/@Reading_Wi...</td>\n",
       "      <td>2025-08-17T01:17:38Z</td>\n",
       "      <td>閱讀智慧</td>\n",
       "      <td>UChg0dXcajouLjSoJf5F8oOg</td>\n",
       "      <td>https://i.ytimg.com/vi/GRWaSdjufdU/hqdefault.jpg</td>\n",
       "    </tr>\n",
       "    <tr>\n",
       "      <th>4</th>\n",
       "      <td>心理領域</td>\n",
       "      <td>心理學</td>\n",
       "      <td>oWMXCziVF6E</td>\n",
       "      <td>這不是童話，是一趟心理自救！憂鬱和心理諮商的真相《蛤蟆先生去看心理師》EP1｜自繪動畫版｜心...</td>\n",
       "      <td>如果你也準備旅行，可以試試Saily，出國旅行真的不能沒網路！ 下載Saily 應用程式或前...</td>\n",
       "      <td>2025-08-17T04:17:01Z</td>\n",
       "      <td>維思維WeisWay</td>\n",
       "      <td>UCcU6CC2Gkc18aBUfEtdjaAA</td>\n",
       "      <td>https://i.ytimg.com/vi/oWMXCziVF6E/hqdefault.jpg</td>\n",
       "    </tr>\n",
       "  </tbody>\n",
       "</table>\n",
       "</div>"
      ],
      "text/plain": [
       "  Category Search keyword     Video ID  \\\n",
       "0     心理領域            心理學  HzcS6Vv4iFQ   \n",
       "1     心理領域            心理學  fO31IpWhyy8   \n",
       "2     心理領域            心理學  boEjQfZD_DE   \n",
       "3     心理領域            心理學  GRWaSdjufdU   \n",
       "4     心理領域            心理學  oWMXCziVF6E   \n",
       "\n",
       "                                         Video title  \\\n",
       "0                    🦡心理学上有个词叫：蜜獾效应｜你越是不怕失去，世界越拿你没办法   \n",
       "1        第一句話就讓人聽喜歡聽下去！高情商說話技巧！非暴力溝通的心理學【人際心理學】| 維思維   \n",
       "2                  🐜 心理学上有个词叫：蚂蚁效应｜所有的积累都在别人看不见的时候发生   \n",
       "3                                   荣格心理学，中年后如何找回自己？   \n",
       "4  這不是童話，是一趟心理自救！憂鬱和心理諮商的真相《蛤蟆先生去看心理師》EP1｜自繪動畫版｜心...   \n",
       "\n",
       "                                   Video description      Publish datetime  \\\n",
       "0  视频简介（中英文双语） 简介（中文）： 在这个看似和平，实则暗潮汹涌的世界里，你越是在意、越...  2025-08-09T12:00:32Z   \n",
       "1  想學好英文，但面對開口說英文的障礙？試看看： #speaker 專屬下載連結➡️ https...  2025-08-23T12:01:14Z   \n",
       "2  成为此频道的会员即可获享以下福利：https://www.youtube.com/chann...  2025-08-21T23:05:07Z   \n",
       "3  歡迎訂閱我們的頻道： https://www.youtube.com/@Reading_Wi...  2025-08-17T01:17:38Z   \n",
       "4  如果你也準備旅行，可以試試Saily，出國旅行真的不能沒網路！ 下載Saily 應用程式或前...  2025-08-17T04:17:01Z   \n",
       "\n",
       "  Channel name                Channel ID  \\\n",
       "0  超级语录-Quotes  UCOrNp79J26wFtULRo9T17ag   \n",
       "1   維思維WeisWay  UCcU6CC2Gkc18aBUfEtdjaAA   \n",
       "2  超级语录-Quotes  UCOrNp79J26wFtULRo9T17ag   \n",
       "3         閱讀智慧  UChg0dXcajouLjSoJf5F8oOg   \n",
       "4   維思維WeisWay  UCcU6CC2Gkc18aBUfEtdjaAA   \n",
       "\n",
       "                                      Thumbnail URL  \n",
       "0  https://i.ytimg.com/vi/HzcS6Vv4iFQ/hqdefault.jpg  \n",
       "1  https://i.ytimg.com/vi/fO31IpWhyy8/hqdefault.jpg  \n",
       "2  https://i.ytimg.com/vi/boEjQfZD_DE/hqdefault.jpg  \n",
       "3  https://i.ytimg.com/vi/GRWaSdjufdU/hqdefault.jpg  \n",
       "4  https://i.ytimg.com/vi/oWMXCziVF6E/hqdefault.jpg  "
      ]
     },
     "execution_count": 40,
     "metadata": {},
     "output_type": "execute_result"
    }
   ],
   "source": [
    "youtube_videos = [[]]\n",
    "write_secret_json()\n",
    "try:\n",
    "    youtube_videos = get_full_google_sheet(\n",
    "        spreadsheet_id=YOUTUBE_SPREADSHEET_ID,\n",
    "        sheet_name=YOUTUBE_SEARCH_VIDEOS_FUNCTION_NAME\n",
    "    )\n",
    "finally:\n",
    "    delete_secret_json()\n",
    "df_raw = google_sheet_to_dataframe(youtube_videos, VIDEO_COLUMN_ORDER)\n",
    "print(\"Loaded rows:\", len(df_raw))\n",
    "df_raw.head()"
   ]
  },
  {
   "cell_type": "code",
   "execution_count": 5,
   "id": "359af3e6",
   "metadata": {},
   "outputs": [
    {
     "name": "stdout",
     "output_type": "stream",
     "text": [
      "開始合併文字欄位，共 3018 筆資料\n",
      "開始清理雜訊\n",
      "開始批次翻譯\n",
      "偵測所有文本所屬語言\n",
      "分離目標語言文本和非目標語言文本\n"
     ]
    },
    {
     "data": {
      "application/vnd.jupyter.widget-view+json": {
       "model_id": "b0220639613e4721a1b98661c59b629b",
       "version_major": 2,
       "version_minor": 0
      },
      "text/plain": [
       "批量翻譯非目標語言文本 (共 1418 筆):   0%|          | 0/29 [00:00<?, ?it/s]"
      ]
     },
     "metadata": {},
     "output_type": "display_data"
    },
    {
     "name": "stdout",
     "output_type": "stream",
     "text": [
      "開始統一中文變體（繁體/簡體）\n",
      "0    心理學上有個詞叫 蜜獾效應 你越是不怕失去 世界越拿你沒辦法 視頻簡介 中英文雙語 簡介 中...\n",
      "1    第一句話就讓人聽喜歡聽下去 高情商說話技巧 非暴力溝通的心理學 人際心理學 維思維 想學好英...\n",
      "2    心理學上有個詞叫 螞蟻效應 所有的積累都在別人看不見的時候發生 成爲此頻道的會員即可獲享以下...\n",
      "3                            榮格心理學 中年後如何找回自己 歡迎訂閱我們的頻道\n",
      "4    這不是童話 是一趟心理自救 憂鬱和心理諮商的真相 蛤蟆先生去看心理師 EP1 自繪動畫版 心...\n",
      "Name: text_translated, dtype: object\n"
     ]
    }
   ],
   "source": [
    "# ==== 前處理 ====\n",
    "# Search keyword加入主題建模，內容會過於重複\n",
    "df_raw['Empty keywords'] = ''\n",
    "df = preprocess_dataframe(\n",
    "    df_raw, \n",
    "    target_variant=\"zh-TW\",\n",
    "    merge_fields=[\"Video title\", \"Video description\", \"Empty keywords\"]\n",
    ")\n",
    "df = df.dropna(subset=[\"text_translated\"]).reset_index(drop=True)\n",
    "# 此次分析，不想留逗號、句號等有語意的符號\n",
    "df['text_translated'] = df['text_translated'].apply(remove_all_punctuation)\n",
    "print(df.head()['text_translated'])"
   ]
  },
  {
   "cell_type": "code",
   "execution_count": 52,
   "id": "96ccefc3-e56e-40ff-ae76-f92c41860158",
   "metadata": {},
   "outputs": [
    {
     "name": "stderr",
     "output_type": "stream",
     "text": [
      "2025-09-04 05:54:28,244 - BERTopic - Embedding - Transforming documents to embeddings.\n"
     ]
    },
    {
     "name": "stdout",
     "output_type": "stream",
     "text": [
      "--- 處理領域: 心理領域 ---\n"
     ]
    },
    {
     "data": {
      "application/vnd.jupyter.widget-view+json": {
       "model_id": "2d978cc410494c7ea43b3b0d7a76472f",
       "version_major": 2,
       "version_minor": 0
      },
      "text/plain": [
       "Batches:   0%|          | 0/29 [00:00<?, ?it/s]"
      ]
     },
     "metadata": {},
     "output_type": "display_data"
    },
    {
     "name": "stderr",
     "output_type": "stream",
     "text": [
      "2025-09-04 05:54:52,086 - BERTopic - Embedding - Completed ✓\n",
      "2025-09-04 05:54:52,086 - BERTopic - Dimensionality - Fitting the dimensionality reduction algorithm\n",
      "2025-09-04 05:54:52,921 - BERTopic - Dimensionality - Completed ✓\n",
      "2025-09-04 05:54:52,921 - BERTopic - Cluster - Start clustering the reduced embeddings\n",
      "2025-09-04 05:54:52,931 - BERTopic - Cluster - Completed ✓\n",
      "2025-09-04 05:54:52,931 - BERTopic - Representation - Extracting topics from clusters using representation models.\n",
      "2025-09-04 05:54:53,170 - BERTopic - Representation - Completed ✓\n",
      "2025-09-04 05:54:53,565 - BERTopic - Embedding - Transforming documents to embeddings.\n"
     ]
    },
    {
     "name": "stdout",
     "output_type": "stream",
     "text": [
      "41\n",
      "Saved: C:\\My data\\0.change jobs\\data_science_practice\\etl_showcase\\application\\..\\docs\\心理領域\\topics_bubble.html C:\\My data\\0.change jobs\\data_science_practice\\etl_showcase\\application\\..\\docs\\心理領域\\topics_hierarchy.html C:\\My data\\0.change jobs\\data_science_practice\\etl_showcase\\application\\..\\docs\\心理領域\\topic_keyword_sankey.html\n",
      "--- 處理領域: 社會弱勢領域 ---\n"
     ]
    },
    {
     "data": {
      "application/vnd.jupyter.widget-view+json": {
       "model_id": "4f847549bb214c76bcbd1326fa38f703",
       "version_major": 2,
       "version_minor": 0
      },
      "text/plain": [
       "Batches:   0%|          | 0/29 [00:00<?, ?it/s]"
      ]
     },
     "metadata": {},
     "output_type": "display_data"
    },
    {
     "name": "stderr",
     "output_type": "stream",
     "text": [
      "2025-09-04 05:55:26,165 - BERTopic - Embedding - Completed ✓\n",
      "2025-09-04 05:55:26,165 - BERTopic - Dimensionality - Fitting the dimensionality reduction algorithm\n",
      "2025-09-04 05:55:26,985 - BERTopic - Dimensionality - Completed ✓\n",
      "2025-09-04 05:55:26,985 - BERTopic - Cluster - Start clustering the reduced embeddings\n",
      "2025-09-04 05:55:27,008 - BERTopic - Cluster - Completed ✓\n",
      "2025-09-04 05:55:27,010 - BERTopic - Representation - Extracting topics from clusters using representation models.\n",
      "2025-09-04 05:55:27,343 - BERTopic - Representation - Completed ✓\n",
      "2025-09-04 05:55:27,820 - BERTopic - Embedding - Transforming documents to embeddings.\n"
     ]
    },
    {
     "name": "stdout",
     "output_type": "stream",
     "text": [
      "49\n",
      "Saved: C:\\My data\\0.change jobs\\data_science_practice\\etl_showcase\\application\\..\\docs\\社會弱勢領域\\topics_bubble.html C:\\My data\\0.change jobs\\data_science_practice\\etl_showcase\\application\\..\\docs\\社會弱勢領域\\topics_hierarchy.html C:\\My data\\0.change jobs\\data_science_practice\\etl_showcase\\application\\..\\docs\\社會弱勢領域\\topic_keyword_sankey.html\n",
      "--- 處理領域: 社會領域 ---\n"
     ]
    },
    {
     "data": {
      "application/vnd.jupyter.widget-view+json": {
       "model_id": "f46acc3c05d44125884001921343e01d",
       "version_major": 2,
       "version_minor": 0
      },
      "text/plain": [
       "Batches:   0%|          | 0/19 [00:00<?, ?it/s]"
      ]
     },
     "metadata": {},
     "output_type": "display_data"
    },
    {
     "name": "stderr",
     "output_type": "stream",
     "text": [
      "2025-09-04 05:55:45,438 - BERTopic - Embedding - Completed ✓\n",
      "2025-09-04 05:55:45,451 - BERTopic - Dimensionality - Fitting the dimensionality reduction algorithm\n",
      "2025-09-04 05:55:45,873 - BERTopic - Dimensionality - Completed ✓\n",
      "2025-09-04 05:55:45,873 - BERTopic - Cluster - Start clustering the reduced embeddings\n",
      "2025-09-04 05:55:45,881 - BERTopic - Cluster - Completed ✓\n",
      "2025-09-04 05:55:45,881 - BERTopic - Representation - Extracting topics from clusters using representation models.\n",
      "2025-09-04 05:55:46,058 - BERTopic - Representation - Completed ✓\n",
      "2025-09-04 05:55:46,360 - BERTopic - Embedding - Transforming documents to embeddings.\n"
     ]
    },
    {
     "name": "stdout",
     "output_type": "stream",
     "text": [
      "41\n",
      "Saved: C:\\My data\\0.change jobs\\data_science_practice\\etl_showcase\\application\\..\\docs\\社會領域\\topics_bubble.html C:\\My data\\0.change jobs\\data_science_practice\\etl_showcase\\application\\..\\docs\\社會領域\\topics_hierarchy.html C:\\My data\\0.change jobs\\data_science_practice\\etl_showcase\\application\\..\\docs\\社會領域\\topic_keyword_sankey.html\n",
      "--- 處理領域: 科技領域 ---\n"
     ]
    },
    {
     "data": {
      "application/vnd.jupyter.widget-view+json": {
       "model_id": "5ea82a3ea35742f4888c2155a7d91ad2",
       "version_major": 2,
       "version_minor": 0
      },
      "text/plain": [
       "Batches:   0%|          | 0/19 [00:00<?, ?it/s]"
      ]
     },
     "metadata": {},
     "output_type": "display_data"
    },
    {
     "name": "stderr",
     "output_type": "stream",
     "text": [
      "2025-09-04 05:56:03,704 - BERTopic - Embedding - Completed ✓\n",
      "2025-09-04 05:56:03,704 - BERTopic - Dimensionality - Fitting the dimensionality reduction algorithm\n",
      "2025-09-04 05:56:04,183 - BERTopic - Dimensionality - Completed ✓\n",
      "2025-09-04 05:56:04,184 - BERTopic - Cluster - Start clustering the reduced embeddings\n",
      "2025-09-04 05:56:04,195 - BERTopic - Cluster - Completed ✓\n",
      "2025-09-04 05:56:04,197 - BERTopic - Representation - Extracting topics from clusters using representation models.\n",
      "2025-09-04 05:56:04,374 - BERTopic - Representation - Completed ✓\n"
     ]
    },
    {
     "name": "stdout",
     "output_type": "stream",
     "text": [
      "27\n",
      "Saved: C:\\My data\\0.change jobs\\data_science_practice\\etl_showcase\\application\\..\\docs\\科技領域\\topics_bubble.html C:\\My data\\0.change jobs\\data_science_practice\\etl_showcase\\application\\..\\docs\\科技領域\\topics_hierarchy.html C:\\My data\\0.change jobs\\data_science_practice\\etl_showcase\\application\\..\\docs\\科技領域\\topic_keyword_sankey.html\n"
     ]
    }
   ],
   "source": [
    "embedding_model = SentenceTransformer(\"shibing624/text2vec-base-chinese\")\n",
    "vectorizer = CountVectorizer(tokenizer=jieba_tokenizer, lowercase=False, min_df=2)   \n",
    "clusterer = hdbscan.HDBSCAN(\n",
    "    min_cluster_size=5,   # 一個群集最少需具備樣本數\n",
    ")\n",
    "\n",
    "# ==== 依 Topic 分組建模，並產生各自報表 ==== \n",
    "grouped_by_topic = df.groupby('Category')\n",
    "for category_name, group_df in grouped_by_topic: \n",
    "    print(f\"--- 處理領域: {category_name} ---\")\n",
    "    \n",
    "    docs = group_df[\"text_translated\"].tolist()\n",
    "    if not docs:\n",
    "        print(f\"領域 '{category_name}' 沒有資料，跳過。\")\n",
    "        continue\n",
    "\n",
    "    # ==== 所有圖表共通變數與前置處理 ====\n",
    "    # 複製df，以避免 SettingWithCopyWarning 錯誤\n",
    "    group_df = group_df[['Category', 'Search keyword', 'merged_text', 'cleaned_text', 'text_translated']].copy()\n",
    "    search_keywords = '、'.join(group_df['Search keyword'].unique())\n",
    "\n",
    "    # 依每圈資料訓練新模型\n",
    "    topic_model = BERTopic(\n",
    "        embedding_model=embedding_model,\n",
    "        language=\"chinese\",\n",
    "        vectorizer_model=vectorizer,\n",
    "        hdbscan_model=clusterer,\n",
    "        verbose=True\n",
    "    )\n",
    "    topics, probs = topic_model.fit_transform(docs)\n",
    "    group_df[\"topic_id\"] = topics\n",
    "    # 移除未在任何文本出現的領域\n",
    "    group_df = group_df[group_df['topic_id'] > -1]\n",
    "\n",
    "    topic_info = topic_model.get_topic_info()    \n",
    "    topic_info = topic_info[topic_info['Topic'] > -1]\n",
    "\n",
    "    docs_dir = os.path.join(os.getcwd(), '..', 'docs', category_name)\n",
    "    os.makedirs(docs_dir, exist_ok=True)\n",
    "    bubble_path = os.path.join(docs_dir, \"topics_bubble.html\")\n",
    "    hier_path = os.path.join(docs_dir, \"topics_hierarchy.html\")\n",
    "    sankey_path = os.path.join(docs_dir, \"topic_keyword_sankey.html\")\n",
    "\n",
    "    print(len(topic_info))\n",
    "    if len(topic_info) < 3:\n",
    "        print('領域數量太少，無法繪圖')\n",
    "\n",
    "        warning_html = \"\"\"\n",
    "        <!DOCTYPE html>\n",
    "        <html>\n",
    "        <head>\n",
    "            <meta charset=\"UTF-8\">\n",
    "            <title>資料不足</title>\n",
    "            <style>\n",
    "                body { font-family: sans-serif; display: flex; justify-content: center; align-items: center; height: 100vh; }\n",
    "                p { font-size: 1rem; color: gray; }\n",
    "            </style>\n",
    "        </head>\n",
    "        <body>\n",
    "            <p>該領域分析出來的議題數量過少，無法視覺化。</p>\n",
    "        </body>\n",
    "        </html>\n",
    "        \"\"\"\n",
    "        for path in [bubble_path, hier_path, sankey_path]:\n",
    "            with open(path, \"w\", encoding=\"utf-8\") as f:\n",
    "                f.write(warning_html)\n",
    "        print(\"Saved:\", bubble_path, hier_path, sankey_path)\n",
    "        \n",
    "        continue\n",
    "\n",
    "    # ==== Bubble 圖 ====\n",
    "    fig_bubble = visualize_topics_bubble(topic_model)\n",
    "    fig_bubble.update_layout(title=\"\")\n",
    "    save_plotly_html(fig_bubble, bubble_path)\n",
    "    \n",
    "    # 準備html中 議題ID vs 議題內容 對照表資料\n",
    "    topic_table_df = pd.DataFrame({\n",
    "        'Topic': topic_info['Topic'],\n",
    "        'Keywords': topic_info['Name'].apply(lambda x: ' | '.join(x.split('_')[:5]))\n",
    "    })\n",
    "    table_data = go.Table(\n",
    "        header=dict(values=[\"議題代號\", \"議題內容\"],\n",
    "                    fill_color='paleturquoise',\n",
    "                    align='left'),\n",
    "        cells=dict(values=[topic_table_df.Topic, topic_table_df.Keywords],\n",
    "                    fill_color='lavender',\n",
    "                    align='left')\n",
    "    )\n",
    "    # 準備html中 Bubble Chart 資料\n",
    "    bubble_data = fig_bubble.to_json()\n",
    "    # 整合並寫入新html內容\n",
    "    html_content = f\"\"\"\n",
    "    <!DOCTYPE html>\n",
    "    <html>\n",
    "    <head>\n",
    "        <meta charset=\"UTF-8\">\n",
    "        <title>Topic Visualization</title>\n",
    "        <script src=\"https://cdn.plot.ly/plotly-latest.min.js\"></script>\n",
    "        <style>\n",
    "            body {{ font-family: sans-serif; }}\n",
    "            .container {{ display: flex; width: 100%; height: 80vh; }}\n",
    "            #bubble-chart {{ flex: 2; border: 1px solid #ccc; box-sizing: border-box; }}\n",
    "            #topic-table {{ flex: 1; overflow-y: auto; box-sizing: border-box; }}\n",
    "            .hover-cell {{ cursor: pointer; font-weight: bold; text-decoration: underline; }}\n",
    "            h3.title {{ margin-block-end: .1em; font-weight: 320; }}\n",
    "            p.subtitle {{ margin-block-start: 0em; margin-block-end: .4em; font-size: .9rem; font-weight: 300; }}\n",
    "            p.source {{ font-size: .8rem; font-weight: 300; color: gray; }}\n",
    "        </style>\n",
    "    </head>\n",
    "    <body>\n",
    "        <h3 class=\"title\">熱門議題聲量與相似度分佈（Bubble Chart）</h3>\n",
    "        <p class=\"subtitle\">議題氣泡愈大，代表相關影片數量愈多；議題氣泡間愈近，代表相似性愈高。</p>\n",
    "        <div class=\"container\">\n",
    "            <div id=\"bubble-chart\"></div>\n",
    "            <div id=\"topic-table\"></div>\n",
    "        </div>\n",
    "        <div><p class=\"source\">{data_source_text(search_keywords)}</p></div>\n",
    "        <script>\n",
    "            document.addEventListener('DOMContentLoaded', function() {{\n",
    "                var bubbleData = {bubble_data};\n",
    "                var tableData = {table_data.to_json()};\n",
    "                \n",
    "                // Fix for topic_id being null\n",
    "                for (var i = 0; i < bubbleData.data.length; i++) {{\n",
    "                    if (bubbleData.data[i].topic_id === undefined) {{\n",
    "                        bubbleData.data[i].topic_id = bubbleData.data[i].name;\n",
    "                    }}\n",
    "                }}\n",
    "    \n",
    "                Plotly.newPlot('bubble-chart', bubbleData.data, bubbleData.layout);\n",
    "    \n",
    "                var tableDiv = document.getElementById('topic-table');\n",
    "                Plotly.newPlot(tableDiv, [tableData], {{}});\n",
    "    \n",
    "                tableDiv.on('plotly_hover', function(data) {{\n",
    "                    if (data.points.length > 0) {{\n",
    "                        var hoveredTopicId = data.points[0].cells.values[0][data.points[0].pointIndex];\n",
    "                        var bubblePlot = document.getElementById('bubble-chart');\n",
    "                        var traceIndex = bubblePlot.data.findIndex(d => d.topic_id === hoveredTopicId);\n",
    "                        \n",
    "                        if (traceIndex !== -1) {{\n",
    "                            Plotly.restyle(bubblePlot, {{\n",
    "                                'marker.line.width': [3],\n",
    "                                'marker.line.color': ['black']\n",
    "                            }}, [traceIndex]);\n",
    "                        }}\n",
    "                    }}\n",
    "                }});\n",
    "    \n",
    "                tableDiv.on('plotly_unhover', function(data) {{\n",
    "                    if (data.points.length > 0) {{\n",
    "                        var unhoveredTopicId = data.points[0].cells.values[0][data.points[0].pointIndex];\n",
    "                        var bubblePlot = document.getElementById('bubble-chart');\n",
    "                        var traceIndex = bubblePlot.data.findIndex(d => d.topic_id === unhoveredTopicId);\n",
    "                        \n",
    "                        if (traceIndex !== -1) {{\n",
    "                            Plotly.restyle(bubblePlot, {{\n",
    "                                'marker.line.width': [1],\n",
    "                                'marker.line.color': ['rgba(0,0,0,0)']\n",
    "                            }}, [traceIndex]);\n",
    "                        }}\n",
    "                    }}\n",
    "                }});\n",
    "            }});\n",
    "        </script>\n",
    "    </body>\n",
    "    </html>\n",
    "    \"\"\"\n",
    "    with open(bubble_path, \"w\", encoding=\"utf-8\") as f:\n",
    "        f.write(html_content)\n",
    "        \n",
    "    # ==== Hierarchy 圖 ====\n",
    "    fig_h = visualize_hierarchical_clustering(topic_model)\n",
    "    fig_h.update_layout(\n",
    "        title=\"熱門議題層級關聯（Hierarchical Clustering）\",\n",
    "        annotations=[dict(\n",
    "            text=data_source_text(search_keywords),\n",
    "            x=0.5, y=-0.15 if len(topic_info)<30 else -0.1,\n",
    "            xref=\"paper\", yref=\"paper\",\n",
    "            showarrow=False,\n",
    "            font=dict(size=12, color=\"gray\")\n",
    "        )]\n",
    "    )\n",
    "    save_plotly_html(fig_h, hier_path)\n",
    "    \n",
    "    # ==== Sankey 圖 ====\n",
    "    # 建立圖中領域格式: \"ID_關鍵字1_關鍵字2...\"\n",
    "    topic_label_map = {}\n",
    "    for index, row in topic_info.iterrows():\n",
    "        topic_id = row['Topic']\n",
    "        keywords = '_'.join(row['Name'].split('_')[1:])\n",
    "        topic_label_map[topic_id] = f\"{topic_id}_{keywords}\"\n",
    "    group_df[\"topic_label\"] = group_df[\"topic_id\"].map(topic_label_map)    \n",
    "    fig_sk = visualize_sankey(\n",
    "        group_df, \n",
    "        topic_column=\"topic_label\", \n",
    "        keyword_column=\"Search keyword\",\n",
    "        topic_prefix=\"\",\n",
    "    )\n",
    "    fig_sk.update_layout(\n",
    "        title=go.layout.Title(\n",
    "            text='熱門議題與搜尋關鍵字之關聯（Sankey Diagram）<br /><sub>左側為熱門議題，右側為搜尋關鍵字</sub>'\n",
    "        ),\n",
    "        annotations=[dict(\n",
    "            text=data_source_text(search_keywords),\n",
    "            x=0.5, y=-0.1,\n",
    "            xref=\"paper\", yref=\"paper\",\n",
    "            showarrow=False,\n",
    "            font=dict(size=12, color=\"gray\")\n",
    "        )],\n",
    "    )\n",
    "    save_plotly_html(fig_sk, sankey_path)\n",
    "    \n",
    "    # ==== 儲存模型與標註資料 ====\n",
    "    topic_model.save(os.path.join(docs_dir, \"bertopic_model\"), serialization=\"safetensors\")\n",
    "    group_df.to_csv(os.path.join(docs_dir, \"docs_with_topics.csv\"), index=False, encoding=\"utf-8-sig\")\n",
    "    \n",
    "    print(\"Saved:\", bubble_path, hier_path, sankey_path)"
   ]
  },
  {
   "cell_type": "code",
   "execution_count": null,
   "id": "fadfa1ed-81ac-447d-951f-6c476a74ceed",
   "metadata": {},
   "outputs": [],
   "source": []
  }
 ],
 "metadata": {
  "kernelspec": {
   "display_name": "Python 3 (ipykernel)",
   "language": "python",
   "name": "python3"
  },
  "language_info": {
   "codemirror_mode": {
    "name": "ipython",
    "version": 3
   },
   "file_extension": ".py",
   "mimetype": "text/x-python",
   "name": "python",
   "nbconvert_exporter": "python",
   "pygments_lexer": "ipython3",
   "version": "3.12.3"
  }
 },
 "nbformat": 4,
 "nbformat_minor": 5
}
