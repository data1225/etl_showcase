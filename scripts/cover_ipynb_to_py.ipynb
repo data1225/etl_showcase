{
 "cells": [
  {
   "cell_type": "code",
   "execution_count": null,
   "id": "4b6d4f40-22da-41e5-91bf-46136a40c831",
   "metadata": {},
   "outputs": [],
   "source": [
    "import os\n",
    "import nbformat\n",
    "from nbconvert import PythonExporter\n",
    "\n",
    "def convert_ipynb_to_py(folder_path):\n",
    "    \"\"\"\n",
    "    遞迴遍歷指定資料夾，將所有 .ipynb 檔案轉換為 .py 檔案。\n",
    "    這個版本會自動移除程式碼開頭的 Jupyter 專用魔術指令。\n",
    "    \"\"\"\n",
    "    for root, dirs, files in os.walk(folder_path):\n",
    "        for file in files:\n",
    "            if file.endswith(\".ipynb\") and not file.startswith(\".\"):\n",
    "                ipynb_path = os.path.join(root, file)\n",
    "                py_path = os.path.splitext(ipynb_path)[0] + \".py\"\n",
    "\n",
    "                print(f\"Converting: {ipynb_path} -> {py_path}\")\n",
    "\n",
    "                try:\n",
    "                    # 讀取 .ipynb 檔案\n",
    "                    with open(ipynb_path, \"r\", encoding=\"utf-8\") as f:\n",
    "                        notebook_node = nbformat.read(f, as_version=4)\n",
    "                    \n",
    "                    exporter = PythonExporter()\n",
    "                    # 轉換 .ipynb 到 .py\n",
    "                    body, _ = exporter.from_notebook_node(notebook_node)\n",
    "\n",
    "                    # --- 核心修改部分 ---\n",
    "                    # 透過檢查程式碼行來過濾掉指定的行\n",
    "                    lines = body.splitlines()\n",
    "                    filtered_lines = []\n",
    "                    for line in lines:\n",
    "                        # 移除 Jupyter 的魔術指令及其轉換後的 Python 函式呼叫\n",
    "                        if not line.strip().startswith(\"get_ipython().run_line_magic('load_ext', 'autoreload')\") and \\\n",
    "                           not line.strip().startswith(\"get_ipython().run_line_magic('autoreload', '2')\"):\n",
    "                            filtered_lines.append(line)\n",
    "                    \n",
    "                    # 重新組合成單一字串\n",
    "                    filtered_body = \"\\n\".join(filtered_lines)\n",
    "                    # --- 核心修改部分結束 ---\n",
    "                    \n",
    "                    # 寫入 .py 檔案\n",
    "                    with open(py_path, \"w\", encoding=\"utf-8\") as f:\n",
    "                        f.write(filtered_body)\n",
    "                \n",
    "                except Exception as e:\n",
    "                    print(f\"⚠️ Conversion failed for {ipynb_path}: {e}\")\n",
    "\n",
    "    print(\"✅ All .ipynb files converted.\")\n",
    "\n",
    "if __name__ == \"__main__\":\n",
    "    # 更改為你的資料夾名稱\n",
    "    convert_ipynb_to_py(\"../application\")"
   ]
  },
  {
   "cell_type": "code",
   "execution_count": null,
   "id": "8a080bc3-e55e-4e1f-a616-6a90f7e82302",
   "metadata": {},
   "outputs": [],
   "source": []
  }
 ],
 "metadata": {
  "kernelspec": {
   "display_name": "Python 3 (ipykernel)",
   "language": "python",
   "name": "python3"
  },
  "language_info": {
   "codemirror_mode": {
    "name": "ipython",
    "version": 3
   },
   "file_extension": ".py",
   "mimetype": "text/x-python",
   "name": "python",
   "nbconvert_exporter": "python",
   "pygments_lexer": "ipython3",
   "version": "3.12.3"
  }
 },
 "nbformat": 4,
 "nbformat_minor": 5
}
