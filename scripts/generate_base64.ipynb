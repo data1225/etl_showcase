{
 "cells": [
  {
   "cell_type": "code",
   "execution_count": 23,
   "id": "ff38ba3d-f576-401e-aa1a-acf0eecf0090",
   "metadata": {},
   "outputs": [
    {
     "name": "stdout",
     "output_type": "stream",
     "text": [
      "encode json file:\n",
      "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\n",
      "\n",
      "encode string:\n",
      "W3sic2NyZWVud29ya19uYW1lIjogInRlc3QiLCAidmlkZW9faWRzIjogWyJfVkIzOUpvOG1BUSJdfV0=\n",
      "\n"
     ]
    }
   ],
   "source": [
    "import base64\n",
    "\n",
    "# 把 json 編碼成base64\n",
    "with open(\"google-sheet-key.json\", \"rb\") as f:\n",
    "    encoded = base64.b64encode(f.read()).decode(\"utf-8\")\n",
    "    print(f'encode json file:\\r\\n{encoded}\\r\\n')\n",
    "\n",
    "# 把一串內容編碼成 base64\n",
    "# encode('utf-8')是因 base64.b64encode() 只能處理 bytes。\n",
    "# decode('utf-8')是為方便存成一般可讀的字串\n",
    "data = '''[{\"screenwork_name\": \"test\", \"video_ids\": [\"_VB39Jo8mAQ\"]}]'''\n",
    "encoded = base64.b64encode(data.encode('utf-8')).decode('utf-8')\n",
    "print(f'encode string:\\r\\n{encoded}\\r\\n')"
   ]
  },
  {
   "cell_type": "code",
   "execution_count": null,
   "id": "02d4e018-498b-4e99-88a2-ee28cbc676e7",
   "metadata": {},
   "outputs": [],
   "source": []
  }
 ],
 "metadata": {
  "kernelspec": {
   "display_name": "Python 3 (ipykernel)",
   "language": "python",
   "name": "python3"
  },
  "language_info": {
   "codemirror_mode": {
    "name": "ipython",
    "version": 3
   },
   "file_extension": ".py",
   "mimetype": "text/x-python",
   "name": "python",
   "nbconvert_exporter": "python",
   "pygments_lexer": "ipython3",
   "version": "3.12.3"
  }
 },
 "nbformat": 4,
 "nbformat_minor": 5
}
