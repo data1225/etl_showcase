{
 "cells": [
  {
   "cell_type": "code",
   "execution_count": null,
   "id": "ff38ba3d-f576-401e-aa1a-acf0eecf0090",
   "metadata": {},
   "outputs": [],
   "source": [
    "import base64\n",
    "\n",
    "# 把 json 編碼成base64\n",
    "with open(\"google-sheet-key.json\", \"rb\") as f:\n",
    "    encoded = base64.b64encode(f.read()).decode(\"utf-8\")\n",
    "    print(f'encode json file:\\r\\n{encoded}\\r\\n')\n",
    "\n",
    "# 把一串內容編碼成 base64\n",
    "# encode('utf-8')是因 base64.b64encode() 只能處理 bytes。\n",
    "# decode('utf-8')是為方便存成一般可讀的字串\n",
    "data = '''[{\"screenwork_name\": \"test\", \"video_ids\": [\"_VB39Jo8mAQ\"]}]'''\n",
    "encoded = base64.b64encode(data.encode('utf-8')).decode('utf-8')\n",
    "print(f'encode string:\\r\\n{encoded}\\r\\n')\n",
    "\n",
    "# 解碼 base64 內容\n",
    "encoded_data = 'W3sic2NyZWVud29ya19uYW1lIjogInRlc3QiLCAidmlkZW9faWRzIjogWyJfVkIzOUpvOG1BUSJdfV0='\n",
    "raw_data = base64.b64decode(encoded_data).decode('utf-8')\n",
    "print(raw_data)"
   ]
  },
  {
   "cell_type": "code",
   "execution_count": null,
   "id": "02d4e018-498b-4e99-88a2-ee28cbc676e7",
   "metadata": {},
   "outputs": [],
   "source": []
  }
 ],
 "metadata": {
  "kernelspec": {
   "display_name": "Python 3 (ipykernel)",
   "language": "python",
   "name": "python3"
  },
  "language_info": {
   "codemirror_mode": {
    "name": "ipython",
    "version": 3
   },
   "file_extension": ".py",
   "mimetype": "text/x-python",
   "name": "python",
   "nbconvert_exporter": "python",
   "pygments_lexer": "ipython3",
   "version": "3.12.3"
  }
 },
 "nbformat": 4,
 "nbformat_minor": 5
}
